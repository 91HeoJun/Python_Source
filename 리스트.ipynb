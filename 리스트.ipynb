{
 "cells": [
  {
   "cell_type": "code",
   "execution_count": 16,
   "metadata": {},
   "outputs": [],
   "source": [
    "# 리스트 생성\n",
    "list1 = []\n",
    "list2 = ['a', 'b', 'c']\n",
    "list3 = ['a', 'b', 'c', 1, 2]\n",
    "list4 = [1, 2, 3.5, 4.5, 6.5]\n",
    "list5 = [1, 2,['Life', 'is', 'short']]"
   ]
  },
  {
   "cell_type": "code",
   "execution_count": 18,
   "metadata": {},
   "outputs": [
    {
     "name": "stdout",
     "output_type": "stream",
     "text": [
      "[]\n",
      "['a', 'b', 'c']\n",
      "['a', 'b', 'c', 1, 2]\n",
      "[1, 2, 3.5, 4.5, 6.5]\n",
      "[1, 2, ['Life', 'is', 'short']]\n"
     ]
    }
   ],
   "source": [
    "print(list1)\n",
    "print(list2)\n",
    "print(list3)\n",
    "print(list4)\n",
    "print(list5)"
   ]
  },
  {
   "cell_type": "code",
   "execution_count": 17,
   "metadata": {},
   "outputs": [
    {
     "name": "stdout",
     "output_type": "stream",
     "text": [
      "list2[1] = b\n",
      "list3[4] = 2\n",
      "list5[2] = ['Life', 'is', 'short']\n",
      "list4[-2] = 4.5\n"
     ]
    }
   ],
   "source": [
    "# 인덱싱\n",
    "print(\"list2[1] =\", list2[1])\n",
    "print(\"list3[4] =\", list3[4])\n",
    "print(\"list5[2] =\", list5[2])\n",
    "print(\"list4[-2] =\", list4[-2])"
   ]
  },
  {
   "cell_type": "code",
   "execution_count": 21,
   "metadata": {},
   "outputs": [
    {
     "name": "stdout",
     "output_type": "stream",
     "text": [
      "list5[2][0] = Life\n"
     ]
    }
   ],
   "source": [
    "# 2차원 배열\n",
    "print(\"list5[2][0] =\", list5[2][0])"
   ]
  },
  {
   "cell_type": "code",
   "execution_count": 23,
   "metadata": {},
   "outputs": [
    {
     "name": "stdout",
     "output_type": "stream",
     "text": [
      "list5[-1] = ['Life', 'is', 'short']\n",
      "list5[-1][2] = short\n"
     ]
    }
   ],
   "source": [
    "print(\"list5[-1] =\", list5[-1])\n",
    "print(\"list5[-1][2] =\", list5[-1][2])"
   ]
  },
  {
   "cell_type": "code",
   "execution_count": 25,
   "metadata": {},
   "outputs": [
    {
     "name": "stdout",
     "output_type": "stream",
     "text": [
      "list6[-1][-1][-1] : is\n",
      "list6[2][2][1] : is\n"
     ]
    }
   ],
   "source": [
    "list6 = [1, 2, ['a', 'b', ['life', 'is']]]\n",
    "# is 출력하기\n",
    "print(\"list6[-1][-1][-1] :\",list6[-1][-1][-1])\n",
    "print(\"list6[2][2][1] :\",list6[2][2][1])"
   ]
  },
  {
   "cell_type": "code",
   "execution_count": 28,
   "metadata": {},
   "outputs": [
    {
     "name": "stdout",
     "output_type": "stream",
     "text": [
      "[1, 2, 3, 4, 5, 6]\n",
      "[1, 2, 3, 'a', 'b', 'c']\n",
      "6\n"
     ]
    }
   ],
   "source": [
    "# 연산자 : +(연결), *(반복)\n",
    "\n",
    "a = [1, 2, 3]\n",
    "b = [4, 5, 6]\n",
    "c = ['a', 'b', 'c']\n",
    "print(a+b)\n",
    "print(a+c)\n",
    "print(a[0]+b[1])"
   ]
  },
  {
   "cell_type": "code",
   "execution_count": 30,
   "metadata": {},
   "outputs": [
    {
     "name": "stdout",
     "output_type": "stream",
     "text": [
      "[1, 2, 3, 1, 2, 3, 1, 2, 3]\n",
      "6\n"
     ]
    }
   ],
   "source": [
    "print(a*3)\n",
    "print(a[1]*3)"
   ]
  },
  {
   "cell_type": "code",
   "execution_count": 35,
   "metadata": {},
   "outputs": [
    {
     "name": "stdout",
     "output_type": "stream",
     "text": [
      "[1, 7, 'life']\n",
      "[1, 7, 'life']\n",
      "[1, 7, 'life']\n"
     ]
    }
   ],
   "source": [
    "print(a)\n",
    "a[1] = 7\n",
    "print(a)\n",
    "a[2] = 'life'\n",
    "print(a)"
   ]
  },
  {
   "cell_type": "code",
   "execution_count": 37,
   "metadata": {},
   "outputs": [
    {
     "name": "stdout",
     "output_type": "stream",
     "text": [
      "[4, 5, 6]\n",
      "[4, 10, 11, 6]\n"
     ]
    }
   ],
   "source": [
    "print(b)\n",
    "b[1:2] = [10, 11]\n",
    "print(b)"
   ]
  },
  {
   "cell_type": "code",
   "execution_count": 38,
   "metadata": {},
   "outputs": [
    {
     "name": "stdout",
     "output_type": "stream",
     "text": [
      "[4, 10, 11, 6]\n",
      "[4, [15, 16, 17], 11, 6]\n"
     ]
    }
   ],
   "source": [
    "print(b)\n",
    "b[1] = [15, 16, 17]\n",
    "print(b)"
   ]
  },
  {
   "cell_type": "code",
   "execution_count": 40,
   "metadata": {
    "scrolled": true
   },
   "outputs": [
    {
     "name": "stdout",
     "output_type": "stream",
     "text": [
      "[1, 7, 'life']\n",
      "[1, 'life']\n"
     ]
    }
   ],
   "source": [
    "print(a)\n",
    "del a[1]\n",
    "print(a)"
   ]
  },
  {
   "cell_type": "code",
   "execution_count": 41,
   "metadata": {},
   "outputs": [
    {
     "name": "stdout",
     "output_type": "stream",
     "text": [
      "[4, [15, 16, 17], 11, 6]\n",
      "[4, 6]\n"
     ]
    }
   ],
   "source": [
    "print(b)\n",
    "b[1:3] = []\n",
    "print(b)"
   ]
  },
  {
   "cell_type": "code",
   "execution_count": 1,
   "metadata": {},
   "outputs": [
    {
     "name": "stdout",
     "output_type": "stream",
     "text": [
      "273\n",
      "103\n",
      "5\n",
      "32\n",
      "65\n",
      "9\n",
      "71\n",
      "800\n",
      "99\n"
     ]
    }
   ],
   "source": [
    "numbers = [273,103,5,32,65,9,71,800,99]\n",
    "for num in numbers:\n",
    "    print(num)"
   ]
  },
  {
   "cell_type": "code",
   "execution_count": 9,
   "metadata": {},
   "outputs": [
    {
     "name": "stdout",
     "output_type": "stream",
     "text": [
      "273는 홀수\n",
      "103는 홀수\n",
      "5는 홀수\n",
      "32는 짝수\n",
      "65는 홀수\n",
      "9는 홀수\n",
      "71는 홀수\n",
      "800는 짝수\n",
      "99는 홀수\n"
     ]
    }
   ],
   "source": [
    "# numbers 안의 숫자가 홀수인지 짝수인지 판별해서 출력하기abs\n",
    "\n",
    "for num in numbers:\n",
    "    if num % 2 == 0:\n",
    "        print(\"{}는 짝수\".format(num))\n",
    "    else:\n",
    "        print(\"{}는 홀수\".format(num))"
   ]
  },
  {
   "cell_type": "code",
   "execution_count": 4,
   "metadata": {},
   "outputs": [
    {
     "name": "stdout",
     "output_type": "stream",
     "text": [
      "273는 3자리수\n",
      "103는 3자리수\n",
      "5는 1자리수\n",
      "32는 2자리수\n",
      "65는 2자리수\n",
      "9는 1자리수\n",
      "71는 2자리수\n",
      "800는 3자리수\n",
      "99는 2자리수\n"
     ]
    }
   ],
   "source": [
    "# numbers 안 각 숫자들의 자릿수 출력하기\n",
    "for num in numbers:\n",
    "    print(\"{}는 {}자리수\".format(num, len(str(num))))"
   ]
  },
  {
   "cell_type": "code",
   "execution_count": 7,
   "metadata": {},
   "outputs": [
    {
     "name": "stdout",
     "output_type": "stream",
     "text": [
      "1 2 3 4 5 6 7 8 9 "
     ]
    }
   ],
   "source": [
    "list_of_list = [[1,2,3],[4,5,6,7],[8,9]]\n",
    "# 1 2 3 4 5 6 7 8 9\n",
    "\n",
    "for list in list_of_list:\n",
    "    for num in list:\n",
    "        print(num, end=\" \")"
   ]
  },
  {
   "cell_type": "markdown",
   "metadata": {},
   "source": [
    "### 리스트 관련 함수"
   ]
  },
  {
   "cell_type": "code",
   "execution_count": 12,
   "metadata": {},
   "outputs": [
    {
     "name": "stdout",
     "output_type": "stream",
     "text": [
      "[1, 2, 3, 4]\n"
     ]
    }
   ],
   "source": [
    "# append() : 리스트에 요소 추가시 사용\n",
    "list1 = [1,2,3]\n",
    "list1.append(4)\n",
    "print(list1)"
   ]
  },
  {
   "cell_type": "code",
   "execution_count": 13,
   "metadata": {},
   "outputs": [
    {
     "name": "stdout",
     "output_type": "stream",
     "text": [
      "[1, 2, 3, 4, [5, 6]]\n"
     ]
    }
   ],
   "source": [
    "list1.append([5,6])\n",
    "print(list1)"
   ]
  },
  {
   "cell_type": "code",
   "execution_count": 14,
   "metadata": {},
   "outputs": [
    {
     "ename": "TypeError",
     "evalue": "append() takes exactly one argument (3 given)",
     "output_type": "error",
     "traceback": [
      "\u001b[1;31m---------------------------------------------------------------------------\u001b[0m",
      "\u001b[1;31mTypeError\u001b[0m                                 Traceback (most recent call last)",
      "\u001b[1;32m<ipython-input-14-fb4c1236e4d3>\u001b[0m in \u001b[0;36m<module>\u001b[1;34m\u001b[0m\n\u001b[1;32m----> 1\u001b[1;33m \u001b[0mlist1\u001b[0m\u001b[1;33m.\u001b[0m\u001b[0mappend\u001b[0m\u001b[1;33m(\u001b[0m\u001b[1;36m5\u001b[0m\u001b[1;33m,\u001b[0m\u001b[1;36m6\u001b[0m\u001b[1;33m,\u001b[0m\u001b[1;36m7\u001b[0m\u001b[1;33m)\u001b[0m\u001b[1;33m\u001b[0m\u001b[1;33m\u001b[0m\u001b[0m\n\u001b[0m",
      "\u001b[1;31mTypeError\u001b[0m: append() takes exactly one argument (3 given)"
     ]
    }
   ],
   "source": [
    "list1.append(5,6,7)\n",
    "# 개별로 여러개를 넣는건 불가함"
   ]
  },
  {
   "cell_type": "code",
   "execution_count": 17,
   "metadata": {},
   "outputs": [
    {
     "name": "stdout",
     "output_type": "stream",
     "text": [
      "[2, 4, 6, 8, 10, 12, 14, 16, 18, 20, 22, 24, 26, 28, 30, 32, 34, 36, 38, 40, 42, 44, 46, 48, 50, 52, 54, 56, 58, 60, 62, 64, 66, 68, 70, 72, 74, 76, 78, 80, 82, 84, 86, 88, 90, 92, 94, 96, 98, 100]\n"
     ]
    }
   ],
   "source": [
    "even = []\n",
    "# 1~100까지 짝수만 even에 추가한 후 출력하기\n",
    "\n",
    "num = 1\n",
    "\n",
    "for num in range(2, 101, 2):\n",
    "    if num % 2 == 0:\n",
    "        even.append(num)\n",
    "print(even)"
   ]
  },
  {
   "cell_type": "code",
   "execution_count": 18,
   "metadata": {
    "scrolled": true
   },
   "outputs": [
    {
     "name": "stdout",
     "output_type": "stream",
     "text": [
      "[25, 75, 15, 9, 6, 3, 36]\n",
      "[3, 6, 9, 15, 25, 36, 75]\n"
     ]
    }
   ],
   "source": [
    "# sort() : 원본 리스트를 정렬\n",
    "list1 = [25,75,15,9,6,3,36]\n",
    "print(list1)\n",
    "list1.sort()\n",
    "print(list1)"
   ]
  },
  {
   "cell_type": "code",
   "execution_count": 20,
   "metadata": {},
   "outputs": [
    {
     "name": "stdout",
     "output_type": "stream",
     "text": [
      "['k', 'z', 'b', 'a', 'q', 'r']\n",
      "['a', 'b', 'k', 'q', 'r', 'z']\n"
     ]
    }
   ],
   "source": [
    "list2 = ['k', 'z', 'b', 'a', 'q', 'r']\n",
    "print(list2)\n",
    "list2.sort()\n",
    "print(list2)"
   ]
  },
  {
   "cell_type": "code",
   "execution_count": 21,
   "metadata": {},
   "outputs": [
    {
     "name": "stdout",
     "output_type": "stream",
     "text": [
      "['k', 'A', 'b', 'C', 'q', 'R']\n",
      "['A', 'C', 'R', 'b', 'k', 'q']\n"
     ]
    }
   ],
   "source": [
    "list3 = ['k', 'A', 'b', 'C', 'q', 'R']\n",
    "print(list3)\n",
    "list3.sort()\n",
    "print(list3)"
   ]
  },
  {
   "cell_type": "code",
   "execution_count": 22,
   "metadata": {},
   "outputs": [
    {
     "name": "stdout",
     "output_type": "stream",
     "text": [
      "['ㄷ', 'ㄱ', 'ㅎ', 'ㅜ', '가']\n",
      "['ㄱ', 'ㄷ', 'ㅎ', 'ㅜ', '가']\n"
     ]
    }
   ],
   "source": [
    "list4 = ['ㄷ', 'ㄱ', 'ㅎ', 'ㅜ', '가']\n",
    "print(list4)\n",
    "list4.sort()\n",
    "print(list4)"
   ]
  },
  {
   "cell_type": "code",
   "execution_count": 23,
   "metadata": {},
   "outputs": [
    {
     "name": "stdout",
     "output_type": "stream",
     "text": [
      "['abc', 'tail', 'bcd', 'animal', 'korea']\n",
      "['abc', 'animal', 'bcd', 'korea', 'tail']\n"
     ]
    }
   ],
   "source": [
    "list5 = ['abc', 'tail', 'bcd', 'animal', 'korea']\n",
    "print(list5)\n",
    "list5.sort()\n",
    "print(list5)"
   ]
  },
  {
   "cell_type": "code",
   "execution_count": 24,
   "metadata": {},
   "outputs": [
    {
     "name": "stdout",
     "output_type": "stream",
     "text": [
      "['k', 'A', 'b', 'C', 'q', 'R']\n",
      "['q', 'k', 'b', 'R', 'C', 'A']\n"
     ]
    }
   ],
   "source": [
    "list3 = ['k', 'A', 'b', 'C', 'q', 'R']\n",
    "print(list3)\n",
    "list3.sort(reverse=True)\n",
    "print(list3)"
   ]
  },
  {
   "cell_type": "code",
   "execution_count": 27,
   "metadata": {},
   "outputs": [
    {
     "name": "stdout",
     "output_type": "stream",
     "text": [
      "[25, 75, 15, 9, 6, 3, 36]\n",
      "[75, 36, 25, 15, 9, 6, 3]\n"
     ]
    }
   ],
   "source": [
    "# reverse() : 리스트 뒤집기\n",
    "list1 = [25,75,15,9,6,3,36]\n",
    "print(list1)\n",
    "list1.sort()\n",
    "list1.reverse()\n",
    "print(list1)"
   ]
  },
  {
   "cell_type": "code",
   "execution_count": 28,
   "metadata": {},
   "outputs": [
    {
     "data": {
      "text/plain": [
       "6"
      ]
     },
     "execution_count": 28,
     "metadata": {},
     "output_type": "execute_result"
    }
   ],
   "source": [
    "# index() : 위치반환\n",
    "list1.index(3)"
   ]
  },
  {
   "cell_type": "code",
   "execution_count": 31,
   "metadata": {},
   "outputs": [
    {
     "name": "stdout",
     "output_type": "stream",
     "text": [
      "[12, 56, 13, 14, 15, 14]\n"
     ]
    }
   ],
   "source": [
    "# insert() : 특정 위치에 요소를 삽입할때 사용 - (첫번쨰 숫자=위치, 두번쨰 숫자=입력값)\n",
    "list2 = [12,13,14,15,14]\n",
    "list2.insert(1,56)\n",
    "print(list2)"
   ]
  },
  {
   "cell_type": "code",
   "execution_count": 33,
   "metadata": {},
   "outputs": [
    {
     "name": "stdout",
     "output_type": "stream",
     "text": [
      "[12, 14, 15, 14]\n",
      "[12, 15, 14]\n"
     ]
    }
   ],
   "source": [
    "# remove() : list 요소 제거\n",
    "list5 = [12,13,14,15,14]\n",
    "list5.remove(13)\n",
    "print(list5)\n",
    "list5.remove(14)\n",
    "print(list5)"
   ]
  },
  {
   "cell_type": "code",
   "execution_count": 34,
   "metadata": {
    "scrolled": true
   },
   "outputs": [
    {
     "name": "stdout",
     "output_type": "stream",
     "text": [
      "[12, 13, 14, 15, 16]\n",
      "[12, 13, 14, 15]\n"
     ]
    }
   ],
   "source": [
    "# pop() : 리스트 요소 중 맨 마지막 요소 꺼내기\n",
    "list5 = [12,13,14,15,16]\n",
    "print(list5)\n",
    "list5.pop()\n",
    "print(list5)"
   ]
  },
  {
   "cell_type": "code",
   "execution_count": 35,
   "metadata": {},
   "outputs": [
    {
     "name": "stdout",
     "output_type": "stream",
     "text": [
      "[12, 14, 15]\n"
     ]
    }
   ],
   "source": [
    "list5.pop(1)\n",
    "print(list5)"
   ]
  },
  {
   "cell_type": "code",
   "execution_count": 37,
   "metadata": {},
   "outputs": [
    {
     "name": "stdout",
     "output_type": "stream",
     "text": [
      "2\n"
     ]
    }
   ],
   "source": [
    "# count() : list 요소 세기\n",
    "list5 = [1,2,3,4,5,6,3]\n",
    "print(list5.count(3))"
   ]
  },
  {
   "cell_type": "code",
   "execution_count": 38,
   "metadata": {},
   "outputs": [
    {
     "name": "stdout",
     "output_type": "stream",
     "text": [
      "[1, 2, 3, 4, 5, 6, 3, 16, 17, 18]\n"
     ]
    }
   ],
   "source": [
    "# extend : 리스트확장(+와 같은 결과)\n",
    "list5.extend([16,17,18])\n",
    "print(list5)"
   ]
  },
  {
   "cell_type": "code",
   "execution_count": 40,
   "metadata": {},
   "outputs": [
    {
     "name": "stdout",
     "output_type": "stream",
     "text": [
      "[]\n"
     ]
    }
   ],
   "source": [
    "# clear() : list 요소 모두 삭제\n",
    "list5.clear()\n",
    "print(list5)"
   ]
  },
  {
   "cell_type": "code",
   "execution_count": 41,
   "metadata": {},
   "outputs": [
    {
     "name": "stdout",
     "output_type": "stream",
     "text": [
      "False\n"
     ]
    }
   ],
   "source": [
    "city = \"\"\n",
    "if city:\n",
    "    print(\"True\")\n",
    "else:\n",
    "    print(\"False\")"
   ]
  },
  {
   "cell_type": "code",
   "execution_count": 44,
   "metadata": {},
   "outputs": [
    {
     "name": "stdout",
     "output_type": "stream",
     "text": [
      "False\n"
     ]
    }
   ],
   "source": [
    "list1 = []\n",
    "if list1:\n",
    "    print(\"True\")\n",
    "else:\n",
    "    print(\"False\")"
   ]
  },
  {
   "cell_type": "code",
   "execution_count": 45,
   "metadata": {},
   "outputs": [
    {
     "name": "stdout",
     "output_type": "stream",
     "text": [
      "딸기 포함\n"
     ]
    }
   ],
   "source": [
    "fruit = ['사과', '딸기', '배', '수박']\n",
    "if '딸기' in fruit:\n",
    "    print(\"딸기 포함\")\n",
    "else:\n",
    "    print(\"딸기 미포함\")"
   ]
  },
  {
   "cell_type": "code",
   "execution_count": null,
   "metadata": {},
   "outputs": [],
   "source": []
  }
 ],
 "metadata": {
  "kernelspec": {
   "display_name": "Python 3",
   "language": "python",
   "name": "python3"
  },
  "language_info": {
   "codemirror_mode": {
    "name": "ipython",
    "version": 3
   },
   "file_extension": ".py",
   "mimetype": "text/x-python",
   "name": "python",
   "nbconvert_exporter": "python",
   "pygments_lexer": "ipython3",
   "version": "3.8.5"
  }
 },
 "nbformat": 4,
 "nbformat_minor": 4
}
