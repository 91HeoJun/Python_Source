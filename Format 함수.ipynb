{
 "cells": [
  {
   "cell_type": "markdown",
   "metadata": {},
   "source": [
    "### Format 함수\n",
    "- %d : 정수\n",
    "- %f : 실수\n",
    "- %s : 문자열\n",
    "- %c : 문자"
   ]
  },
  {
   "cell_type": "code",
   "execution_count": 3,
   "metadata": {},
   "outputs": [
    {
     "name": "stdout",
     "output_type": "stream",
     "text": [
      "100\n",
      "  100\n",
      "00100\n"
     ]
    }
   ],
   "source": [
    "print(\"%d\" % 100)\n",
    "print(\"%5d\" % 100)\n",
    "print(\"%05d\" % 100)"
   ]
  },
  {
   "cell_type": "code",
   "execution_count": 5,
   "metadata": {},
   "outputs": [
    {
     "name": "stdout",
     "output_type": "stream",
     "text": [
      "hi\n",
      "   hi\n"
     ]
    }
   ],
   "source": [
    "print(\"%s\" % \"hi\")\n",
    "print(\"%5s\" % \"hi\")"
   ]
  },
  {
   "cell_type": "code",
   "execution_count": 6,
   "metadata": {},
   "outputs": [
    {
     "name": "stdout",
     "output_type": "stream",
     "text": [
      "123.810000\n",
      "  123.81\n",
      "  123.81\n",
      "123.81  \n"
     ]
    }
   ],
   "source": [
    "print(\"%f\" % 123.81)\n",
    "print(\"%8.2f\" % 123.81)\n",
    "print(\"%8.2f\" % 123.81235)\n",
    "print(\"%-8.2f\" %123.81)"
   ]
  },
  {
   "cell_type": "code",
   "execution_count": 7,
   "metadata": {},
   "outputs": [
    {
     "name": "stdout",
     "output_type": "stream",
     "text": [
      "I eat 3 apples\n"
     ]
    }
   ],
   "source": [
    "print(\"I eat %d apples\" % 3)"
   ]
  },
  {
   "cell_type": "code",
   "execution_count": 9,
   "metadata": {},
   "outputs": [
    {
     "name": "stdout",
     "output_type": "stream",
     "text": [
      "I eat five apples\n"
     ]
    }
   ],
   "source": [
    "print(\"I eat %s apples\" % \"five\")"
   ]
  },
  {
   "cell_type": "code",
   "execution_count": 12,
   "metadata": {},
   "outputs": [
    {
     "name": "stdout",
     "output_type": "stream",
     "text": [
      "I eat 4 apples\n",
      "I eat 4 apples\n"
     ]
    }
   ],
   "source": [
    "number = 4\n",
    "print(\"I eat\", number, \"apples\")\n",
    "print(\"I eat %d apples\" % number)"
   ]
  },
  {
   "cell_type": "code",
   "execution_count": 13,
   "metadata": {},
   "outputs": [
    {
     "name": "stdout",
     "output_type": "stream",
     "text": [
      "I ate 10 apples. so I was sick for three days\n"
     ]
    }
   ],
   "source": [
    "number = 10\n",
    "day = \"three\"\n",
    "print(\"I ate %d apples. so I was sick for %s days\" % (number, day))"
   ]
  },
  {
   "cell_type": "code",
   "execution_count": 14,
   "metadata": {},
   "outputs": [
    {
     "name": "stdout",
     "output_type": "stream",
     "text": [
      "hong's favorite number is 7\n"
     ]
    }
   ],
   "source": [
    "print(\"%s's favorite number is %d\" % (\"hong\", 7))"
   ]
  },
  {
   "cell_type": "code",
   "execution_count": 16,
   "metadata": {},
   "outputs": [
    {
     "name": "stdout",
     "output_type": "stream",
     "text": [
      "Test1 :   776, price : 6534.12\n"
     ]
    }
   ],
   "source": [
    "print(\"Test1 : %5d, price : %4.2f\" % (776, 6534.123))"
   ]
  },
  {
   "cell_type": "code",
   "execution_count": 17,
   "metadata": {},
   "outputs": [
    {
     "name": "stdout",
     "output_type": "stream",
     "text": [
      "I eat 3 apples\n",
      "I eat 3.156 apples\n",
      "I eat three apples\n"
     ]
    }
   ],
   "source": [
    "print(\"I eat %s apples\" % 3)\n",
    "print(\"I eat %s apples\" % 3.156)\n",
    "print(\"I eat %s apples\" % \"three\")"
   ]
  },
  {
   "cell_type": "code",
   "execution_count": 19,
   "metadata": {},
   "outputs": [
    {
     "name": "stdout",
     "output_type": "stream",
     "text": [
      "성장율 : 3%\n"
     ]
    }
   ],
   "source": [
    "print(\"성장율 : %d%%\" % 3)"
   ]
  },
  {
   "cell_type": "code",
   "execution_count": 20,
   "metadata": {},
   "outputs": [
    {
     "name": "stdout",
     "output_type": "stream",
     "text": [
      "you and Me\n"
     ]
    }
   ],
   "source": [
    "print('{} and {}'.format('you', 'Me'))"
   ]
  },
  {
   "cell_type": "code",
   "execution_count": 3,
   "metadata": {},
   "outputs": [
    {
     "name": "stdout",
     "output_type": "stream",
     "text": [
      "I eat Your apples\n"
     ]
    }
   ],
   "source": [
    "print(\"I eat {} apples\".format('Your', 'Me'))"
   ]
  },
  {
   "cell_type": "code",
   "execution_count": 8,
   "metadata": {},
   "outputs": [
    {
     "name": "stdout",
     "output_type": "stream",
     "text": [
      "you and Me and you\n",
      "you and Me and you\n"
     ]
    }
   ],
   "source": [
    "print('{0} and {1} and {0}'.format('you', 'Me'))\n",
    "print('{} and {} and {}'.format('you', 'Me', 'you'))"
   ]
  },
  {
   "cell_type": "code",
   "execution_count": 7,
   "metadata": {},
   "outputs": [
    {
     "name": "stdout",
     "output_type": "stream",
     "text": [
      "you and Me\n"
     ]
    }
   ],
   "source": [
    "print('{var1} and {var2}'.format(var1='you', var2='Me'))"
   ]
  },
  {
   "cell_type": "code",
   "execution_count": 10,
   "metadata": {},
   "outputs": [
    {
     "name": "stdout",
     "output_type": "stream",
     "text": [
      "I ate 20 apples. so I was sick for 5 days\n"
     ]
    }
   ],
   "source": [
    "print(\"I ate {0} apples. so I was sick for {day} days\".format(20, day=5))"
   ]
  },
  {
   "cell_type": "markdown",
   "metadata": {},
   "source": [
    "#### 이스케이프 문자"
   ]
  },
  {
   "cell_type": "code",
   "execution_count": 12,
   "metadata": {},
   "outputs": [
    {
     "name": "stdout",
     "output_type": "stream",
     "text": [
      "줄바꿈\n",
      "문자\n"
     ]
    }
   ],
   "source": [
    "print(\"줄바꿈\\n문자\")"
   ]
  },
  {
   "cell_type": "code",
   "execution_count": 13,
   "metadata": {},
   "outputs": [
    {
     "name": "stdout",
     "output_type": "stream",
     "text": [
      "탭키\t연습\n"
     ]
    }
   ],
   "source": [
    "print(\"탭키\\t연습\")"
   ]
  },
  {
   "cell_type": "code",
   "execution_count": 14,
   "metadata": {},
   "outputs": [
    {
     "name": "stdout",
     "output_type": "stream",
     "text": [
      "\\\\ 역슬래시 2번 출력\n"
     ]
    }
   ],
   "source": [
    "print(\"\\\\\\\\ 역슬래시 2번 출력\")"
   ]
  },
  {
   "cell_type": "code",
   "execution_count": 15,
   "metadata": {},
   "outputs": [
    {
     "name": "stdout",
     "output_type": "stream",
     "text": [
      "\\n \\t \\\\ 를 그대로 줄력\n"
     ]
    }
   ],
   "source": [
    "print(r\"\\n \\t \\\\ 를 그대로 줄력\")"
   ]
  },
  {
   "cell_type": "code",
   "execution_count": 18,
   "metadata": {},
   "outputs": [
    {
     "name": "stdout",
     "output_type": "stream",
     "text": [
      "Python's favorite\n"
     ]
    }
   ],
   "source": [
    "print('Python\\'s favorite')"
   ]
  },
  {
   "cell_type": "code",
   "execution_count": 21,
   "metadata": {},
   "outputs": [
    {
     "name": "stdout",
     "output_type": "stream",
     "text": [
      "I sad \"Python\" favorite\n"
     ]
    }
   ],
   "source": [
    "print('I sad \"Python\" before')"
   ]
  }
 ],
 "metadata": {
  "kernelspec": {
   "display_name": "Python 3",
   "language": "python",
   "name": "python3"
  },
  "language_info": {
   "codemirror_mode": {
    "name": "ipython",
    "version": 3
   },
   "file_extension": ".py",
   "mimetype": "text/x-python",
   "name": "python",
   "nbconvert_exporter": "python",
   "pygments_lexer": "ipython3",
   "version": "3.8.5"
  }
 },
 "nbformat": 4,
 "nbformat_minor": 4
}
