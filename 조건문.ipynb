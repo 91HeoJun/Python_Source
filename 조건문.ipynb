{
 "cells": [
  {
   "cell_type": "markdown",
   "metadata": {},
   "source": [
    "### 블럭 => 탭\n",
    "- {}개념이 없음"
   ]
  },
  {
   "cell_type": "code",
   "execution_count": 1,
   "metadata": {},
   "outputs": [
    {
     "name": "stdout",
     "output_type": "stream",
     "text": [
      "True\n"
     ]
    }
   ],
   "source": [
    "if True : \n",
    "    print(\"True\")"
   ]
  },
  {
   "cell_type": "code",
   "execution_count": 4,
   "metadata": {},
   "outputs": [
    {
     "name": "stdout",
     "output_type": "stream",
     "text": [
      "조건문과 반복문에서 들여쓰기는 하나의 블럭을 의미\n"
     ]
    }
   ],
   "source": [
    "a = 200\n",
    "if a<200:\n",
    "    print(\"a는 200보다 작다\")\n",
    "\n",
    "print(\"조건문과 반복문에서 들여쓰기는 하나의 블럭을 의미\")"
   ]
  },
  {
   "cell_type": "code",
   "execution_count": 5,
   "metadata": {},
   "outputs": [
    {
     "name": "stdout",
     "output_type": "stream",
     "text": [
      "a는 100과 200 사이에 있다\n"
     ]
    }
   ],
   "source": [
    "# a가 100보다 크고 200보다 작거나 같다\n",
    "\n",
    "if a>100 and a<= 200:\n",
    "    print(\"a는 100과 200 사이에 있다\")"
   ]
  },
  {
   "cell_type": "code",
   "execution_count": 6,
   "metadata": {},
   "outputs": [
    {
     "name": "stdout",
     "output_type": "stream",
     "text": [
      "a는 100과 200 사이에 있다\n"
     ]
    }
   ],
   "source": [
    "if 100 < a <= 200:\n",
    "    print(\"a는 100과 200 사이에 있다\")"
   ]
  },
  {
   "cell_type": "code",
   "execution_count": 9,
   "metadata": {},
   "outputs": [
    {
     "name": "stdout",
     "output_type": "stream",
     "text": [
      "제일 큰 수 : 18\n"
     ]
    }
   ],
   "source": [
    "# a, b, c = 12, 6, 18 이중에서 가장 큰 숫자를 출력\n",
    "a = 12\n",
    "b = 6\n",
    "c = 18\n",
    "\n",
    "max = a\n",
    "if max<b:\n",
    "    max = b\n",
    "if max<c:\n",
    "    max = c\n",
    "    \n",
    "print(\"제일 큰 수 :\", max)"
   ]
  },
  {
   "cell_type": "code",
   "execution_count": 10,
   "metadata": {},
   "outputs": [
    {
     "name": "stdout",
     "output_type": "stream",
     "text": [
      "True\n"
     ]
    }
   ],
   "source": [
    "if True:\n",
    "    print(\"True\")\n",
    "else:\n",
    "    print(\"False\")"
   ]
  },
  {
   "cell_type": "code",
   "execution_count": 11,
   "metadata": {},
   "outputs": [
    {
     "name": "stdout",
     "output_type": "stream",
     "text": [
      "a는 100보다 작다\n"
     ]
    }
   ],
   "source": [
    "a = 55\n",
    "if a<100:\n",
    "    print(\"a는 100보다 작다\")\n",
    "else:\n",
    "    print(\"a는 100보다 크다\")"
   ]
  },
  {
   "cell_type": "code",
   "execution_count": 26,
   "metadata": {},
   "outputs": [
    {
     "name": "stdout",
     "output_type": "stream",
     "text": [
      "첫번째 수 : 5\n",
      "홀수\n"
     ]
    }
   ],
   "source": [
    "# 사용자로부터 입력받고 그 숫자가 짝수인지 홀수인지 출력하기\n",
    "\n",
    "msg = int(input('첫번째 수 : '))\n",
    "if msg%2==0 :\n",
    "    print(\"짝수\")\n",
    "else:\n",
    "    print(\"홀수\")"
   ]
  },
  {
   "cell_type": "code",
   "execution_count": 28,
   "metadata": {},
   "outputs": [
    {
     "name": "stdout",
     "output_type": "stream",
     "text": [
      "2021-02-15 11:08:55.170100\n",
      "2021년 2월 15일 11시 8분 55초\n"
     ]
    }
   ],
   "source": [
    "import datetime\n",
    "\n",
    "now = datetime.datetime.now()\n",
    "print(now)\n",
    "print(\"{}년 {}월 {}일 {}시 {}분 {}초\".format(now.year, now.month, now.day, now.hour, now.minute, now.second))"
   ]
  },
  {
   "cell_type": "code",
   "execution_count": 29,
   "metadata": {},
   "outputs": [
    {
     "name": "stdout",
     "output_type": "stream",
     "text": [
      "오전\n"
     ]
    }
   ],
   "source": [
    "#현재 시간이 오전인지 오후인지\n",
    "\n",
    "if now.hour < 12:\n",
    "    print(\"오전\")\n",
    "else:\n",
    "    print(\"오후\")"
   ]
  },
  {
   "cell_type": "markdown",
   "metadata": {},
   "source": [
    "## 삼항 연산자\n",
    " - 참일때 실행될 구문 if 조건 else 거짓일때 수행될 구문"
   ]
  },
  {
   "cell_type": "code",
   "execution_count": 30,
   "metadata": {},
   "outputs": [
    {
     "name": "stdout",
     "output_type": "stream",
     "text": [
      "안녕하세요\n"
     ]
    }
   ],
   "source": [
    "str = \"안녕하세요\" if True else \"반갑습니다\"\n",
    "print(str)"
   ]
  },
  {
   "cell_type": "code",
   "execution_count": 32,
   "metadata": {},
   "outputs": [
    {
     "name": "stdout",
     "output_type": "stream",
     "text": [
      "비어 있는 배열\n"
     ]
    }
   ],
   "source": [
    "a = []\n",
    "str = a if a else \"비어 있는 배열\"\n",
    "print(str)"
   ]
  },
  {
   "cell_type": "markdown",
   "metadata": {},
   "source": [
    "# if - elif - else"
   ]
  },
  {
   "cell_type": "code",
   "execution_count": 37,
   "metadata": {},
   "outputs": [
    {
     "name": "stdout",
     "output_type": "stream",
     "text": [
      "num 등급 F\n"
     ]
    }
   ],
   "source": [
    "num = 20\n",
    "if num >= 90:\n",
    "    print(\"num 등급 A\")\n",
    "elif num >= 80:\n",
    "    print(\"num 등급 B\")\n",
    "elif num >= 70:\n",
    "    print(\"num 등급 C\")\n",
    "elif num >= 60:\n",
    "    print(\"num 등급 D\")\n",
    "else:\n",
    "    print(\"num 등급 F\")"
   ]
  },
  {
   "cell_type": "code",
   "execution_count": 41,
   "metadata": {},
   "outputs": [
    {
     "name": "stdout",
     "output_type": "stream",
     "text": [
      "지원 불가\n"
     ]
    }
   ],
   "source": [
    "age = 27\n",
    "height = 156\n",
    "\n",
    "if age >= 20:\n",
    "    if height >= 170:\n",
    "        print(\"A 파트 지원 가능\")\n",
    "    elif height >= 160:\n",
    "        print(\"B 파트 지원 가능\")\n",
    "    else:\n",
    "        print(\"지원 불가\")\n",
    "else:\n",
    "    print(\"20세 이상 지원 가능\")"
   ]
  },
  {
   "cell_type": "code",
   "execution_count": 46,
   "metadata": {},
   "outputs": [
    {
     "name": "stdout",
     "output_type": "stream",
     "text": [
      "학점 : F\n"
     ]
    }
   ],
   "source": [
    "# 점수에 맞춰 학점 출력하기\n",
    "# 81~100 : A / 61~80 : B / 41~61 : C / 21~40 : D / 그외 F \n",
    "\n",
    "score = 20\n",
    "\n",
    "if score >= 81:\n",
    "    print(\"학점 : A\")\n",
    "elif score >= 61:\n",
    "    print(\"학점 : B\")\n",
    "elif score >= 41:\n",
    "    print(\"학점 : C\")\n",
    "elif score >= 21:\n",
    "    print(\"학점 : D\")\n",
    "else:\n",
    "    print(\"학점 : F\")"
   ]
  },
  {
   "cell_type": "code",
   "execution_count": 56,
   "metadata": {},
   "outputs": [
    {
     "name": "stdout",
     "output_type": "stream",
     "text": [
      "첫번째 수 : 50\n",
      "연산자 : *\n",
      "두번째 수 : 2\n",
      "50 * 2 = 100\n"
     ]
    }
   ],
   "source": [
    "# 계산기 - 2개의 숫자 입력받기\n",
    "# 연산자(+, -, *, /, //, **) 입력받기\n",
    "num1 = int(input('첫번째 수 : '))\n",
    "op = input('연산자 : ')\n",
    "num2 = int(input('두번째 수 : '))\n",
    "\n",
    "if op == \"+\":\n",
    "    print(\"{} {} {} = {}\".format(num1, op, num2, num1+num2))\n",
    "elif op == \"-\":\n",
    "    print(\"{} {} {} = {}\".format(num1, op, num2, num1-num2))\n",
    "elif op == \"*\":\n",
    "    print(\"{} {} {} = {}\".format(num1, op, num2, num1*num2))\n",
    "elif op == \"/\":\n",
    "    print(\"{} {} {} = {}\".format(num1, op, num2, num1/num2))\n",
    "elif op == \"//\":\n",
    "    print(\"{} {} {} = {}\".format(num1, op, num2, num1//num2))\n",
    "elif op == \"**\":\n",
    "    print(\"{} {} {} = {}\".format(num1, op, num2, num1**num2))\n",
    "elif op == \"%\":\n",
    "    print(\"{} {} {} = {}\".format(num1, op, num2, num1%num2))\n",
    "else:\n",
    "    print(\"연산자를 확인해주세요\")\n"
   ]
  }
 ],
 "metadata": {
  "kernelspec": {
   "display_name": "Python 3",
   "language": "python",
   "name": "python3"
  },
  "language_info": {
   "codemirror_mode": {
    "name": "ipython",
    "version": 3
   },
   "file_extension": ".py",
   "mimetype": "text/x-python",
   "name": "python",
   "nbconvert_exporter": "python",
   "pygments_lexer": "ipython3",
   "version": "3.8.5"
  }
 },
 "nbformat": 4,
 "nbformat_minor": 4
}
