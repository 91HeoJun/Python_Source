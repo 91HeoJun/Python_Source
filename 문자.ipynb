{
 "cells": [
  {
   "cell_type": "markdown",
   "metadata": {},
   "source": [
    "### 문자 처리\n",
    "- 쌍따옴표, 홑따옴표로 표현\n",
    "- 쌍따옴표 3개, 홑따옴표 3개 가능"
   ]
  },
  {
   "cell_type": "code",
   "execution_count": 1,
   "metadata": {},
   "outputs": [
    {
     "name": "stdout",
     "output_type": "stream",
     "text": [
      "Life is too short, You need Python.\n"
     ]
    }
   ],
   "source": [
    "a = \"Life is too short, You need Python.\"\n",
    "print(a)"
   ]
  },
  {
   "cell_type": "code",
   "execution_count": 2,
   "metadata": {},
   "outputs": [
    {
     "name": "stdout",
     "output_type": "stream",
     "text": [
      "Life is too short, You need Python.\n"
     ]
    }
   ],
   "source": [
    "a = 'Life is too short, You need Python.'\n",
    "print(a)"
   ]
  },
  {
   "cell_type": "code",
   "execution_count": 3,
   "metadata": {},
   "outputs": [
    {
     "name": "stdout",
     "output_type": "stream",
     "text": [
      "Life is too short, You need Python.\n"
     ]
    }
   ],
   "source": [
    "a = '''Life is too short, You need Python.'''\n",
    "print(a)"
   ]
  },
  {
   "cell_type": "code",
   "execution_count": 4,
   "metadata": {
    "scrolled": true
   },
   "outputs": [
    {
     "name": "stdout",
     "output_type": "stream",
     "text": [
      "Life is too short, You need Python.\n"
     ]
    }
   ],
   "source": [
    "a = \"\"\"Life is too short, You need Python.\"\"\"\n",
    "print(a)"
   ]
  },
  {
   "cell_type": "markdown",
   "metadata": {},
   "source": [
    "- 문자열 응용 : +(결합), *(복제),"
   ]
  },
  {
   "cell_type": "code",
   "execution_count": 5,
   "metadata": {},
   "outputs": [
    {
     "name": "stdout",
     "output_type": "stream",
     "text": [
      "Pythonis fun\n"
     ]
    }
   ],
   "source": [
    "print(\"Python\" + \"is fun\")"
   ]
  },
  {
   "cell_type": "code",
   "execution_count": 8,
   "metadata": {},
   "outputs": [
    {
     "name": "stdout",
     "output_type": "stream",
     "text": [
      "python python \n"
     ]
    }
   ],
   "source": [
    "print(\"python \" * 2)"
   ]
  },
  {
   "cell_type": "code",
   "execution_count": 10,
   "metadata": {},
   "outputs": [
    {
     "name": "stdout",
     "output_type": "stream",
     "text": [
      "**************************************************\n",
      "My Program\n",
      "**************************************************\n"
     ]
    }
   ],
   "source": [
    "print(\"*\" * 50)\n",
    "print(\"My Program\")\n",
    "print(\"*\" * 50)"
   ]
  },
  {
   "cell_type": "markdown",
   "metadata": {},
   "source": [
    "- 문자열 인덱싱과 슬라이싱"
   ]
  },
  {
   "cell_type": "code",
   "execution_count": 12,
   "metadata": {},
   "outputs": [
    {
     "name": "stdout",
     "output_type": "stream",
     "text": [
      "e\n"
     ]
    }
   ],
   "source": [
    "str1 = \"Life is too short\"\n",
    "print(str1[3]) # indexing : 0부터 시작"
   ]
  },
  {
   "cell_type": "code",
   "execution_count": 14,
   "metadata": {},
   "outputs": [
    {
     "name": "stdout",
     "output_type": "stream",
     "text": [
      "t\n"
     ]
    }
   ],
   "source": [
    "print(str1[-1])"
   ]
  },
  {
   "cell_type": "code",
   "execution_count": 15,
   "metadata": {},
   "outputs": [
    {
     "name": "stdout",
     "output_type": "stream",
     "text": [
      "Life\n"
     ]
    }
   ],
   "source": [
    "print(str1[0:4])"
   ]
  },
  {
   "cell_type": "code",
   "execution_count": 17,
   "metadata": {},
   "outputs": [
    {
     "name": "stdout",
     "output_type": "stream",
     "text": [
      "is\n"
     ]
    }
   ],
   "source": [
    "print(str1[5:7])"
   ]
  },
  {
   "cell_type": "code",
   "execution_count": 18,
   "metadata": {},
   "outputs": [
    {
     "name": "stdout",
     "output_type": "stream",
     "text": [
      "oo short\n"
     ]
    }
   ],
   "source": [
    "print(str1[9:])"
   ]
  },
  {
   "cell_type": "code",
   "execution_count": 21,
   "metadata": {},
   "outputs": [
    {
     "name": "stdout",
     "output_type": "stream",
     "text": [
      "문자열 길이 : 17\n"
     ]
    }
   ],
   "source": [
    "# 문자열 길이 함수\n",
    "print(\"문자열 길이 :\", len(str1))"
   ]
  },
  {
   "cell_type": "code",
   "execution_count": 23,
   "metadata": {
    "scrolled": true
   },
   "outputs": [
    {
     "name": "stdout",
     "output_type": "stream",
     "text": [
      "20210216\n",
      "Sunny\n"
     ]
    }
   ],
   "source": [
    "str2 = \"20210216Sunny\"\n",
    "#날짜와 날씨를 나눠서 출력\n",
    "\n",
    "print(str2[:-5])\n",
    "print(str2[-5:])"
   ]
  },
  {
   "cell_type": "code",
   "execution_count": 28,
   "metadata": {},
   "outputs": [
    {
     "name": "stdout",
     "output_type": "stream",
     "text": [
      "2021-02-16\n"
     ]
    }
   ],
   "source": [
    "#날짜를 2021-02-16 출력하기\n",
    "year = str2[0:4]\n",
    "month = str2[4:6]\n",
    "day = str[6:8]\n",
    "print(str2[0:4] +\"-\" + str2[4:6] + \"-\" + str2[6:8] )"
   ]
  },
  {
   "cell_type": "code",
   "execution_count": 35,
   "metadata": {},
   "outputs": [
    {
     "name": "stdout",
     "output_type": "stream",
     "text": [
      "외계인\n"
     ]
    }
   ],
   "source": [
    "idnum = \"901205-6234567\"\n",
    "# 주민등록번호에서 일곱번째 자리 숫자를 이용하여 남,여 판별 후 출력하기\n",
    "# 1,3 : 남자 / 2,4 : 여자\n",
    "\n",
    "no = idnum[7]\n",
    "\n",
    "if no == \"1\" or no == \"3\":\n",
    "    print(\"남성\")\n",
    "elif no == \"2\" or no == \"4\":\n",
    "    print(\"여성\")\n",
    "else:\n",
    "    print(\"외계인\")\n"
   ]
  },
  {
   "cell_type": "code",
   "execution_count": 36,
   "metadata": {},
   "outputs": [
    {
     "name": "stdout",
     "output_type": "stream",
     "text": [
      "여자\n"
     ]
    }
   ],
   "source": [
    "if int(no) % 2 ==1:\n",
    "    print(\"남자\")\n",
    "else:\n",
    "    print(\"여자\")"
   ]
  },
  {
   "cell_type": "code",
   "execution_count": 40,
   "metadata": {},
   "outputs": [
    {
     "name": "stdout",
     "output_type": "stream",
     "text": [
      "대$한$민$국$"
     ]
    }
   ],
   "source": [
    "str3 = \"대한민국\" # 대$한$민$국\n",
    "for s in str3:\n",
    "    print(s+\"$\", end=\"\")"
   ]
  },
  {
   "cell_type": "code",
   "execution_count": 47,
   "metadata": {
    "scrolled": false
   },
   "outputs": [
    {
     "name": "stdout",
     "output_type": "stream",
     "text": [
      "숫자 입력 : 1426\n",
      "♡\n",
      "♡♡♡♡\n",
      "♡♡\n",
      "♡♡♡♡♡♡\n"
     ]
    }
   ],
   "source": [
    "# 입력받은 숫자만큼 하트 출력\n",
    "\n",
    "# 54321\n",
    "# ♡♡♡♡♡\n",
    "# ♡♡♡♡\n",
    "# ♡♡\n",
    "# ♡\n",
    "\n",
    "st4 = input(\"숫자 입력 : \")\n",
    "\n",
    "for c in range(len(st4)):\n",
    "    for d in range(int(st4[c])):\n",
    "        print(\"♡\", end=\"\")\n",
    "    print()\n",
    "\n"
   ]
  },
  {
   "cell_type": "markdown",
   "metadata": {},
   "source": [
    "- 문자열 관련 함수"
   ]
  },
  {
   "cell_type": "code",
   "execution_count": 48,
   "metadata": {},
   "outputs": [
    {
     "name": "stdout",
     "output_type": "stream",
     "text": [
      "a 문자열에 포함된 b 문자열 개수 : 2\n"
     ]
    }
   ],
   "source": [
    "# count : 문자열에 포함된 특정 문자열 개수\n",
    "\n",
    "a = \"hobby\"\n",
    "print(\"a 문자열에 포함된 b 문자열 개수 :\", a.count('b'))"
   ]
  },
  {
   "cell_type": "code",
   "execution_count": 50,
   "metadata": {},
   "outputs": [
    {
     "name": "stdout",
     "output_type": "stream",
     "text": [
      "b가 시작되는 첫번째 위치 : 10\n",
      "b가 시작되는 첫번째 위치 : -1\n"
     ]
    }
   ],
   "source": [
    "# find : 문자를 찾아서 시작되는 위치를 돌려줌\n",
    "\n",
    "\n",
    "a = \"Python is best Choice\"\n",
    "print('b가 시작되는 첫번째 위치 :', a.find('b'))\n",
    "print('b가 시작되는 첫번째 위치 :', a.find('k'))"
   ]
  },
  {
   "cell_type": "code",
   "execution_count": 51,
   "metadata": {
    "scrolled": true
   },
   "outputs": [
    {
     "name": "stdout",
     "output_type": "stream",
     "text": [
      "b가 시작되는 첫번째 위치 : -1\n"
     ]
    }
   ],
   "source": [
    "print('b가 시작되는 첫번째 위치 :', a.find('b', 11))"
   ]
  },
  {
   "cell_type": "code",
   "execution_count": 52,
   "metadata": {},
   "outputs": [
    {
     "name": "stdout",
     "output_type": "stream",
     "text": [
      "b가 시작되는 첫번째 위치 : 10\n"
     ]
    }
   ],
   "source": [
    "# rfind() : 오른쪽부터 찾기\n",
    "print('b가 시작되는 첫번째 위치 :', a.rfind('b'))"
   ]
  },
  {
   "cell_type": "code",
   "execution_count": 54,
   "metadata": {},
   "outputs": [
    {
     "name": "stdout",
     "output_type": "stream",
     "text": [
      "b가 시작되는 첫번째 위치 : 10\n"
     ]
    }
   ],
   "source": [
    "# index : find 함수와 동일한 기능, 단, 찾는 문자열이 없는 경우 에러 발생\n",
    "\n",
    "a = \"Python is best Choice\"\n",
    "print('b가 시작되는 첫번째 위치 :', a.index('b'))\n",
    "#print('b가 시작되는 첫번째 위치 :', a.index('k'))"
   ]
  },
  {
   "cell_type": "code",
   "execution_count": 58,
   "metadata": {},
   "outputs": [
    {
     "name": "stdout",
     "output_type": "stream",
     "text": [
      "True\n"
     ]
    }
   ],
   "source": [
    "# startswith() : 괄호 안의 문자열로 시작하면 True, 아니면 False\n",
    "\n",
    "a = \"Python is easy programing\"\n",
    "print(a.startswith(\"P\"))"
   ]
  },
  {
   "cell_type": "code",
   "execution_count": 59,
   "metadata": {},
   "outputs": [
    {
     "name": "stdout",
     "output_type": "stream",
     "text": [
      "True\n"
     ]
    }
   ],
   "source": [
    "# endswith() : 괄호 안의 문자열로 끝나면 True, 아니면 False\n",
    "print(a.endswith(\"g\"))"
   ]
  },
  {
   "cell_type": "code",
   "execution_count": 61,
   "metadata": {},
   "outputs": [
    {
     "name": "stdout",
     "output_type": "stream",
     "text": [
      "a,b,c,d\n"
     ]
    }
   ],
   "source": [
    "# join() : 문자열 사이에 연결문자 지정\n",
    "b = \",\"\n",
    "print(b.join(\"abcd\"))"
   ]
  },
  {
   "cell_type": "code",
   "execution_count": 62,
   "metadata": {},
   "outputs": [
    {
     "name": "stdout",
     "output_type": "stream",
     "text": [
      "ABCD\n"
     ]
    }
   ],
   "source": [
    "# upper() : 대문자로 변경\n",
    "\n",
    "a = \"abcd\"\n",
    "print(a.upper())"
   ]
  },
  {
   "cell_type": "code",
   "execution_count": 64,
   "metadata": {},
   "outputs": [
    {
     "name": "stdout",
     "output_type": "stream",
     "text": [
      "abcd\n"
     ]
    }
   ],
   "source": [
    "# lower() : 대문자로 변경\n",
    "\n",
    "a = \"ABCD\"\n",
    "print(a.lower())"
   ]
  },
  {
   "cell_type": "code",
   "execution_count": 65,
   "metadata": {},
   "outputs": [
    {
     "name": "stdout",
     "output_type": "stream",
     "text": [
      "pYTHON IS eASY\n"
     ]
    }
   ],
   "source": [
    "# swapcase() : 대소문자 상호 변경\n",
    "a = \"Python is Easy\"\n",
    "print(a.swapcase())"
   ]
  },
  {
   "cell_type": "code",
   "execution_count": 66,
   "metadata": {},
   "outputs": [
    {
     "name": "stdout",
     "output_type": "stream",
     "text": [
      "Python Is Easy\n"
     ]
    }
   ],
   "source": [
    "# title() : 각 단어의 시작부분 대문자로 변경\n",
    "\n",
    "a = \"python is easy\"\n",
    "print(a.title())"
   ]
  },
  {
   "cell_type": "code",
   "execution_count": 68,
   "metadata": {},
   "outputs": [
    {
     "name": "stdout",
     "output_type": "stream",
     "text": [
      "   hi\n",
      "hi\n"
     ]
    }
   ],
   "source": [
    "# 공백제거 : strip(), lstrip(), rstrip()\n",
    "a = \"   hi\"\n",
    "print(a)\n",
    "print(a.lstrip()) # 좌측 공백 제거"
   ]
  },
  {
   "cell_type": "code",
   "execution_count": null,
   "metadata": {},
   "outputs": [],
   "source": [
    "a = \"hi   \"\n",
    "print(a)\n",
    "print(a.rstrip()) # 우측 공백 제거"
   ]
  },
  {
   "cell_type": "code",
   "execution_count": 69,
   "metadata": {},
   "outputs": [
    {
     "name": "stdout",
     "output_type": "stream",
     "text": [
      "   hi   \n",
      "hi\n"
     ]
    }
   ],
   "source": [
    "a = \"   hi   \"\n",
    "print(a)\n",
    "print(a.strip()) # 양쪽 공백 제거"
   ]
  },
  {
   "cell_type": "code",
   "execution_count": 71,
   "metadata": {},
   "outputs": [
    {
     "name": "stdout",
     "output_type": "stream",
     "text": [
      "Your leg is too short\n"
     ]
    }
   ],
   "source": [
    "# replace() : 문자열 바꾸기\n",
    "a = \"Life is too short\"\n",
    "print(a.replace(\"Life\", \"Your leg\"))"
   ]
  },
  {
   "cell_type": "code",
   "execution_count": 73,
   "metadata": {},
   "outputs": [
    {
     "name": "stdout",
     "output_type": "stream",
     "text": [
      "['a', 'b', 'c', 'd']\n"
     ]
    }
   ],
   "source": [
    "# split() : 문자열 나누기\n",
    "a = \"a:b:c:d\"\n",
    "print(a.split(\":\")) # python에서 []는 List"
   ]
  },
  {
   "cell_type": "code",
   "execution_count": 74,
   "metadata": {},
   "outputs": [
    {
     "name": "stdout",
     "output_type": "stream",
     "text": [
      "['a', 'b', 'c', 'd']\n"
     ]
    }
   ],
   "source": [
    "# split() : 문자열 나누기\n",
    "a = \"a\\nb\\nc\\nd\"\n",
    "print(a.split(\"\\n\"))"
   ]
  },
  {
   "cell_type": "code",
   "execution_count": 77,
   "metadata": {},
   "outputs": [
    {
     "name": "stdout",
     "output_type": "stream",
     "text": [
      "['a', 'b', 'c', 'd']\n"
     ]
    }
   ],
   "source": [
    "# split() : 문자열 나누기\n",
    "a = \"a b c d\"\n",
    "print(a.split()) #괄호 안 입력 없을 시 공백을 기준으로 나눔"
   ]
  },
  {
   "cell_type": "code",
   "execution_count": 79,
   "metadata": {},
   "outputs": [
    {
     "name": "stdout",
     "output_type": "stream",
     "text": [
      "True\n",
      "True\n",
      "True\n",
      "True\n",
      "True\n"
     ]
    }
   ],
   "source": [
    "# 문자열 구성 파학 함수 : isdigit(), isalpha(), isnum(), islower(),isupper()\n",
    "\n",
    "print(\"1234\".isdigit())\n",
    "print(\"asd\".isalpha())\n",
    "print(\"asd1234\".isalnum())\n",
    "print(\"asd\".islower())\n",
    "print(\"ASD\".isupper())"
   ]
  },
  {
   "cell_type": "code",
   "execution_count": 80,
   "metadata": {},
   "outputs": [
    {
     "name": "stdout",
     "output_type": "stream",
     "text": [
      "kENNry\n"
     ]
    }
   ],
   "source": [
    "name = \"KennRY\"\n",
    "\n",
    "# 대문자는 소문자로, 소문자는 대문자로 출력하기\n",
    "print(name.swapcase())"
   ]
  },
  {
   "cell_type": "code",
   "execution_count": 97,
   "metadata": {
    "scrolled": true
   },
   "outputs": [
    {
     "name": "stdout",
     "output_type": "stream",
     "text": [
      "yyyy/mm/dd :2021/02/16\n",
      "입력한 날짜의 10년 후 : 2031년 02월 16일\n"
     ]
    }
   ],
   "source": [
    "# 연/월/일 형태로 입력받은 후 10년후의 날짜 출력하기\n",
    "\n",
    "data = input(\"yyyy/mm/dd :\")\n",
    "\n",
    "pos = data.find(\"/\")\n",
    "year = int(data[:pos])+10\n",
    "\n",
    "print(\"입력한 날짜의 10년 후 : %s\" % (str(year)+\"년 \"+data[5:7]+\"월 \"+data[8:]+\"일\"))\n",
    "\n",
    "\n",
    "#입력값이 2021/02/16일때 -> 2031년 02월 16일"
   ]
  },
  {
   "cell_type": "code",
   "execution_count": 103,
   "metadata": {},
   "outputs": [
    {
     "name": "stdout",
     "output_type": "stream",
     "text": [
      "규칙 1번 : naver.com\n",
      "규칙 2번 : naver\n",
      "결과 : nav51!\n"
     ]
    }
   ],
   "source": [
    "# Python에서 문자열은 불변!\n",
    "\n",
    "# 사이트별로 비밀번호 만들어주기\n",
    "\n",
    "# 예) http://naver.com\n",
    "# 규칙 1 : http:// 부분은 제외 -> naver.com\n",
    "# 규칙 2 : 처음 만나는 점(.) 이후 부분은 제외 -> naver\n",
    "# 규칙 3 : 남은 글자 중 처음 세자리 + 글자 갯수 + 글자 내 'e' 갯수 + !로 구성\n",
    "# 결과 => nav51!\n",
    "\n",
    "addr = \"http://naver.com\"\n",
    "addr = addr.replace(\"http://\", \"\")\n",
    "print(\"규칙 1번 :\",addr)\n",
    "\n",
    "\n",
    "addr = addr[:addr.find(\".\")]\n",
    "print(\"규칙 2번 :\", addr)\n",
    "\n",
    "e_cnt = addr.count('e')\n",
    "\n",
    "password = addr[:3]+str(len(addr))+str(e_cnt)+\"!\"\n",
    "print(\"결과 :\", password)"
   ]
  },
  {
   "cell_type": "code",
   "execution_count": null,
   "metadata": {},
   "outputs": [],
   "source": []
  },
  {
   "cell_type": "code",
   "execution_count": null,
   "metadata": {},
   "outputs": [],
   "source": []
  }
 ],
 "metadata": {
  "kernelspec": {
   "display_name": "Python 3",
   "language": "python",
   "name": "python3"
  },
  "language_info": {
   "codemirror_mode": {
    "name": "ipython",
    "version": 3
   },
   "file_extension": ".py",
   "mimetype": "text/x-python",
   "name": "python",
   "nbconvert_exporter": "python",
   "pygments_lexer": "ipython3",
   "version": "3.8.5"
  }
 },
 "nbformat": 4,
 "nbformat_minor": 4
}
