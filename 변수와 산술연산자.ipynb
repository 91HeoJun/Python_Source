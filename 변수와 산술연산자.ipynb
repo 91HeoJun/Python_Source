{
 "cells": [
  {
   "cell_type": "code",
   "execution_count": 1,
   "metadata": {},
   "outputs": [],
   "source": [
    "str1 = \"List is too short, You need Python\"\n",
    "str2 = \"List is too short, You need Python\"\n",
    "str3 = \"\"\"List is too short, You need Python\"\"\"\n",
    "str4 = '''List is too short, You need Python'''\n",
    "str5 = \"123\"\n",
    "\n",
    "num1 = 10\n",
    "num2 = 10.1"
   ]
  },
  {
   "cell_type": "code",
   "execution_count": 5,
   "metadata": {},
   "outputs": [
    {
     "name": "stdout",
     "output_type": "stream",
     "text": [
      "List is too short, You need Python\n",
      "List is too short, You need Python\n",
      "123\n"
     ]
    }
   ],
   "source": [
    "print(str1)\n",
    "print(str3)\n",
    "print(str5)"
   ]
  },
  {
   "cell_type": "code",
   "execution_count": 6,
   "metadata": {},
   "outputs": [
    {
     "name": "stdout",
     "output_type": "stream",
     "text": [
      "20.1\n"
     ]
    }
   ],
   "source": [
    "print(num1+num2)"
   ]
  },
  {
   "cell_type": "code",
   "execution_count": 7,
   "metadata": {},
   "outputs": [
    {
     "name": "stdout",
     "output_type": "stream",
     "text": [
      "3\n",
      "3\n"
     ]
    }
   ],
   "source": [
    "a = b = 3\n",
    "print(a)\n",
    "print(b)"
   ]
  },
  {
   "cell_type": "code",
   "execution_count": 8,
   "metadata": {},
   "outputs": [
    {
     "name": "stdout",
     "output_type": "stream",
     "text": [
      "6\n"
     ]
    }
   ],
   "source": [
    "print(a+b)"
   ]
  },
  {
   "cell_type": "code",
   "execution_count": 16,
   "metadata": {},
   "outputs": [
    {
     "name": "stdout",
     "output_type": "stream",
     "text": [
      "10\n",
      "15\n"
     ]
    }
   ],
   "source": [
    "a, b = 10, 15\n",
    "print(a)\n",
    "print(b)"
   ]
  },
  {
   "cell_type": "code",
   "execution_count": 17,
   "metadata": {},
   "outputs": [
    {
     "name": "stdout",
     "output_type": "stream",
     "text": [
      "a= 15\n",
      "b= 10\n"
     ]
    }
   ],
   "source": [
    "a, b = b,a\n",
    "print(\"a=\",a)\n",
    "print(\"b=\",b)"
   ]
  },
  {
   "cell_type": "code",
   "execution_count": 18,
   "metadata": {},
   "outputs": [
    {
     "name": "stdout",
     "output_type": "stream",
     "text": [
      "500   Hello\n"
     ]
    }
   ],
   "source": [
    "str1 = 500\n",
    "num1 = \"Hello\"\n",
    "print(str1, \" \", num1)"
   ]
  },
  {
   "cell_type": "code",
   "execution_count": null,
   "metadata": {},
   "outputs": [],
   "source": [
    "# 정수형\n",
    "\n",
    "a = 123\n",
    "b = -173"
   ]
  },
  {
   "cell_type": "code",
   "execution_count": 19,
   "metadata": {},
   "outputs": [
    {
     "name": "stdout",
     "output_type": "stream",
     "text": [
      "1.2\n",
      "-3.45\n",
      "42400000000.0\n",
      "4.24e-10\n"
     ]
    }
   ],
   "source": [
    "# 실수형\n",
    "\n",
    "a = 1.2\n",
    "b = -3.45\n",
    "c = 4.24E10\n",
    "d = 4.24e-10\n",
    "\n",
    "print(a)\n",
    "print(b)\n",
    "print(c)\n",
    "print(d)"
   ]
  },
  {
   "cell_type": "code",
   "execution_count": 21,
   "metadata": {},
   "outputs": [
    {
     "name": "stdout",
     "output_type": "stream",
     "text": [
      "127\n",
      "5393\n"
     ]
    }
   ],
   "source": [
    "# 8진수(0o), 16진수(0x)\n",
    "\n",
    "print(0o177) # 177= 1*8의 2승 + 7*8의 1승 + 7*8의 0승\n",
    "print(0x1511) # 1511 = 1*16의 3승 + 5*16의 2승 + 1*16의 1승 + 1*16의 0승"
   ]
  },
  {
   "cell_type": "code",
   "execution_count": 24,
   "metadata": {},
   "outputs": [
    {
     "name": "stdout",
     "output_type": "stream",
     "text": [
      "a+b= 7\n",
      "a-b= -1\n",
      "a*b= 12\n",
      "a/b= 0.75\n",
      "a//b= 0\n",
      "a%b= 3\n",
      "a**b= 81\n"
     ]
    }
   ],
   "source": [
    "# 연산자\n",
    "a, b = 3, 4\n",
    "print(\"a+b=\", a+b)\n",
    "print(\"a-b=\", a-b)\n",
    "print(\"a*b=\", a*b)\n",
    "print(\"a/b=\", a/b) # 소수점 결과까지 포함\n",
    "print(\"a//b=\", a//b) # 소수점 결과는 버림\n",
    "print(\"a%b=\", a%b) \n",
    "print(\"a**b=\", a**b) # 제곱"
   ]
  },
  {
   "cell_type": "code",
   "execution_count": 25,
   "metadata": {},
   "outputs": [
    {
     "name": "stdout",
     "output_type": "stream",
     "text": [
      "True\n",
      "<class 'bool'>\n"
     ]
    }
   ],
   "source": [
    "b = True\n",
    "print(b)\n",
    "print(type(b))"
   ]
  },
  {
   "cell_type": "markdown",
   "metadata": {},
   "source": [
    "### 변수 형 변환\n",
    "- str() : 문자 타입으로 변환\n",
    "- int() : 정수 타입으로 변환\n",
    "- float() : 실수 타입으로 변환\n",
    "- bool() : 불린 타입으로 변환"
   ]
  },
  {
   "cell_type": "code",
   "execution_count": 27,
   "metadata": {},
   "outputs": [
    {
     "name": "stdout",
     "output_type": "stream",
     "text": [
      "<class 'int'>\n",
      "<class 'str'>\n"
     ]
    }
   ],
   "source": [
    "print(type(3))\n",
    "print(type(str(3)))"
   ]
  },
  {
   "cell_type": "code",
   "execution_count": 29,
   "metadata": {},
   "outputs": [
    {
     "name": "stdout",
     "output_type": "stream",
     "text": [
      "<class 'str'>\n",
      "10000.0\n"
     ]
    }
   ],
   "source": [
    "print(type(str(3.5)))\n",
    "print(str(1.0e4))"
   ]
  },
  {
   "cell_type": "code",
   "execution_count": 30,
   "metadata": {},
   "outputs": [
    {
     "name": "stdout",
     "output_type": "stream",
     "text": [
      "1\n",
      "0\n"
     ]
    }
   ],
   "source": [
    "print(int(True))\n",
    "print(int(False))"
   ]
  },
  {
   "cell_type": "code",
   "execution_count": 33,
   "metadata": {},
   "outputs": [
    {
     "name": "stdout",
     "output_type": "stream",
     "text": [
      "98\n",
      "99\n"
     ]
    },
    {
     "ename": "ValueError",
     "evalue": "invalid literal for int() with base 10: '98.6'",
     "output_type": "error",
     "traceback": [
      "\u001b[1;31m---------------------------------------------------------------------------\u001b[0m",
      "\u001b[1;31mValueError\u001b[0m                                Traceback (most recent call last)",
      "\u001b[1;32m<ipython-input-33-5a18aed5ad3b>\u001b[0m in \u001b[0;36m<module>\u001b[1;34m\u001b[0m\n\u001b[0;32m      1\u001b[0m \u001b[0mprint\u001b[0m\u001b[1;33m(\u001b[0m\u001b[0mint\u001b[0m\u001b[1;33m(\u001b[0m\u001b[1;36m98.6\u001b[0m\u001b[1;33m)\u001b[0m\u001b[1;33m)\u001b[0m\u001b[1;33m\u001b[0m\u001b[1;33m\u001b[0m\u001b[0m\n\u001b[0;32m      2\u001b[0m \u001b[0mprint\u001b[0m\u001b[1;33m(\u001b[0m\u001b[0mint\u001b[0m\u001b[1;33m(\u001b[0m\u001b[1;34m'99'\u001b[0m\u001b[1;33m)\u001b[0m\u001b[1;33m)\u001b[0m\u001b[1;33m\u001b[0m\u001b[1;33m\u001b[0m\u001b[0m\n\u001b[1;32m----> 3\u001b[1;33m \u001b[0mprint\u001b[0m\u001b[1;33m(\u001b[0m\u001b[0mint\u001b[0m\u001b[1;33m(\u001b[0m\u001b[1;34m'98.6'\u001b[0m\u001b[1;33m)\u001b[0m\u001b[1;33m)\u001b[0m\u001b[1;33m\u001b[0m\u001b[1;33m\u001b[0m\u001b[0m\n\u001b[0m",
      "\u001b[1;31mValueError\u001b[0m: invalid literal for int() with base 10: '98.6'"
     ]
    }
   ],
   "source": [
    "print(int(98.6))\n",
    "print(int('99'))\n",
    "# print(int('98.6')) error 발생"
   ]
  },
  {
   "cell_type": "code",
   "execution_count": 37,
   "metadata": {},
   "outputs": [
    {
     "name": "stdout",
     "output_type": "stream",
     "text": [
      "1.0\n",
      "0.0\n",
      "98.0\n",
      "99.6\n",
      "10000.0\n"
     ]
    }
   ],
   "source": [
    "print(float(True))\n",
    "print(float(False))\n",
    "print(float(98))\n",
    "print(float('99.6'))\n",
    "print(float('1.0e4'))"
   ]
  },
  {
   "cell_type": "code",
   "execution_count": 39,
   "metadata": {},
   "outputs": [
    {
     "name": "stdout",
     "output_type": "stream",
     "text": [
      "<class 'bool'> True\n",
      "<class 'bool'> True\n"
     ]
    }
   ],
   "source": [
    "print(type(bool(99)), bool(99))\n",
    "print(type(bool(0.1)), bool(0.1))"
   ]
  },
  {
   "cell_type": "code",
   "execution_count": 43,
   "metadata": {},
   "outputs": [
    {
     "name": "stdout",
     "output_type": "stream",
     "text": [
      "101\n"
     ]
    }
   ],
   "source": [
    "# print(\"100\" + 1) # 에러남\n",
    "print(int(\"100\") + 1)"
   ]
  },
  {
   "cell_type": "code",
   "execution_count": 44,
   "metadata": {},
   "outputs": [
    {
     "name": "stdout",
     "output_type": "stream",
     "text": [
      "1001\n"
     ]
    }
   ],
   "source": [
    "print(\"100\"+str(1))"
   ]
  },
  {
   "cell_type": "code",
   "execution_count": 46,
   "metadata": {},
   "outputs": [
    {
     "name": "stdout",
     "output_type": "stream",
     "text": [
      "15\n",
      "10\n",
      "50\n",
      "10.0\n",
      "2.0\n",
      "2.0\n",
      "32.0\n"
     ]
    }
   ],
   "source": [
    "# 대입연산자\n",
    "a = 10\n",
    "a += 5\n",
    "print(a)\n",
    "\n",
    "a -= 5\n",
    "print(a)\n",
    "\n",
    "a *= 5\n",
    "print(a)\n",
    "\n",
    "a /= 5\n",
    "print(a)\n",
    "\n",
    "a //= 5\n",
    "print(a)\n",
    "\n",
    "a %= 5\n",
    "print(a)\n",
    "\n",
    "a **= 5\n",
    "print(a)"
   ]
  },
  {
   "cell_type": "code",
   "execution_count": 55,
   "metadata": {},
   "outputs": [
    {
     "name": "stdout",
     "output_type": "stream",
     "text": [
      "지폐교환\n",
      "50,000원 : 15 장\n",
      "10,000원 : 2 장\n",
      "5,000원 : 1 장\n",
      "1,000원 : 2 장\n",
      "나머지 : 777 원\n"
     ]
    }
   ],
   "source": [
    "# 777,777 원 교환하기\n",
    "\n",
    "money = 777777\n",
    "c50 = 0\n",
    "c10 = 0\n",
    "c5 = 0\n",
    "c1 = 0\n",
    "\n",
    "# 5만원\n",
    "c50 = money // 50000\n",
    "money %= 50000\n",
    "\n",
    "# 1만원\n",
    "c10 = money // 10000\n",
    "money %= 10000\n",
    "\n",
    "# 5천원\n",
    "c5 = money // 5000\n",
    "money %= 5000\n",
    "\n",
    "# 1천원\n",
    "c1 = money // 1000\n",
    "money %= 1000\n",
    "\n",
    "print(\"지폐교환\")\n",
    "print(\"50,000원 : %d 장\" % c50)\n",
    "print(\"10,000원 : %d 장\" % c10)\n",
    "print(\"5,000원 : %d 장\" % c5)\n",
    "print(\"1,000원 : %d 장\" % c1)\n",
    "print(\"나머지 : %d 원\" % money)\n"
   ]
  },
  {
   "cell_type": "code",
   "execution_count": null,
   "metadata": {},
   "outputs": [],
   "source": []
  }
 ],
 "metadata": {
  "kernelspec": {
   "display_name": "Python 3",
   "language": "python",
   "name": "python3"
  },
  "language_info": {
   "codemirror_mode": {
    "name": "ipython",
    "version": 3
   },
   "file_extension": ".py",
   "mimetype": "text/x-python",
   "name": "python",
   "nbconvert_exporter": "python",
   "pygments_lexer": "ipython3",
   "version": "3.8.5"
  }
 },
 "nbformat": 4,
 "nbformat_minor": 4
}
